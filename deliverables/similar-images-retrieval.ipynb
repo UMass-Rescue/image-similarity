{
 "cells": [
  {
   "cell_type": "markdown",
   "metadata": {},
   "source": [
    "# Import all the necessary modules"
   ]
  },
  {
   "cell_type": "code",
   "execution_count": null,
   "metadata": {},
   "outputs": [],
   "source": [
    "%pylab inline\n",
    "import image_similarity\n",
    "import matplotlib.pyplot as plt\n",
    "import matplotlib.image as mpimg"
   ]
  },
  {
   "cell_type": "markdown",
   "metadata": {},
   "source": [
    "### Absolute path to the sqlite3 database on your local machine\n",
    "#### (*Please be careful while specfying the path, wrong path to the db will crash the application*)"
   ]
  },
  {
   "cell_type": "code",
   "execution_count": null,
   "metadata": {},
   "outputs": [],
   "source": [
    "mydb = r'/home/kautilya/Downloads/deliverables/image_similarity.db'"
   ]
  },
  {
   "cell_type": "markdown",
   "metadata": {},
   "source": [
    "### Absolute path to the h5 model file (deepranking-v2-150000.h5) on your local machine\n",
    "#### (*Please be careful while specfying the path, wrong path to the model file will crash the application*)"
   ]
  },
  {
   "cell_type": "code",
   "execution_count": null,
   "metadata": {},
   "outputs": [],
   "source": [
    "model_name = r'/home/kautilya/Downloads/deliverables/deepranking-v2-150000.h5'"
   ]
  },
  {
   "cell_type": "markdown",
   "metadata": {},
   "source": [
    "### Absolute path to the query image for which you want to find similar images\n",
    "#### (*Please be careful while specfying the path, wrong path to the query image will crash the application*)"
   ]
  },
  {
   "cell_type": "code",
   "execution_count": null,
   "metadata": {},
   "outputs": [],
   "source": [
    "query_image = r'/home/kautilya/Downloads/val_256/Places365_val_00036394.jpg'"
   ]
  },
  {
   "cell_type": "markdown",
   "metadata": {},
   "source": [
    "### Absolute path to the image directory from which you want to find images similar to the query image\n",
    "#### (*Please be careful while specfying the path, wrong path to the image directory will crash the application*)"
   ]
  },
  {
   "cell_type": "code",
   "execution_count": null,
   "metadata": {},
   "outputs": [],
   "source": [
    "img_directory = r'/home/kautilya/Downloads/val_256'"
   ]
  },
  {
   "cell_type": "markdown",
   "metadata": {},
   "source": [
    "### K = top K similar images that you are interested in finding"
   ]
  },
  {
   "cell_type": "code",
   "execution_count": null,
   "metadata": {},
   "outputs": [],
   "source": [
    "K = 10"
   ]
  },
  {
   "cell_type": "markdown",
   "metadata": {},
   "source": [
    "### Run the below cell to obtain K images similar to the query image specified in the above cells"
   ]
  },
  {
   "cell_type": "code",
   "execution_count": null,
   "metadata": {},
   "outputs": [],
   "source": [
    "sorted_image_scores = image_similarity.getSimilarImages(model_name, query_image, img_directory, mydb ,K)\n",
    "\n",
    "class color:\n",
    "   PURPLE = '\\033[95m'\n",
    "   CYAN = '\\033[96m'\n",
    "   DARKCYAN = '\\033[36m'\n",
    "   BLUE = '\\033[94m'\n",
    "   GREEN = '\\033[92m'\n",
    "   YELLOW = '\\033[93m'\n",
    "   RED = '\\033[91m'\n",
    "   BOLD = '\\033[1m'\n",
    "   UNDERLINE = '\\033[4m'\n",
    "   END = '\\033[0m'\n",
    "\n",
    "print(\"\\n\"+color.BOLD + \"Query image: \" + color.END + \"\\n\")\n",
    "\n",
    "img=mpimg.imread(query_image)\n",
    "\n",
    "imgplot = plt.imshow(img)\n",
    "\n",
    "plt.show()\n",
    "\n",
    "print(color.BOLD + \"Results:\" + color.END + \"\\n\")\n",
    "\n",
    "for image in sorted_image_scores:\n",
    "    try:\n",
    "        img=mpimg.imread(image[1])\n",
    "        imgplot = plt.imshow(img)\n",
    "        plt.show()\n",
    "    except FileNotFoundError:\n",
    "        print(\"Image \", image[1], \" not found\")\n"
   ]
  }
 ],
 "metadata": {
  "kernelspec": {
   "display_name": "Python 3",
   "language": "python",
   "name": "python3"
  },
  "language_info": {
   "codemirror_mode": {
    "name": "ipython",
    "version": 3
   },
   "file_extension": ".py",
   "mimetype": "text/x-python",
   "name": "python",
   "nbconvert_exporter": "python",
   "pygments_lexer": "ipython3",
   "version": "3.6.10"
  }
 },
 "nbformat": 4,
 "nbformat_minor": 4
}
